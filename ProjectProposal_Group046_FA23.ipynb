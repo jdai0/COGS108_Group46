{
 "cells": [
  {
   "cell_type": "markdown",
   "metadata": {},
   "source": [
    "# COGS 108 - Project Proposal"
   ]
  },
  {
   "cell_type": "markdown",
   "metadata": {},
   "source": [
    "# Names\n",
    "\n",
    "- Steven Dominic Sahar\n",
    "- Mengyi Chen\n",
    "- Pranav Rebala\n",
    "- Sikai Liang\n",
    "- Jiaheng Dai"
   ]
  },
  {
   "cell_type": "markdown",
   "metadata": {},
   "source": [
    "# Research Question"
   ]
  },
  {
   "cell_type": "markdown",
   "metadata": {},
   "source": [
    "Which factor among types of college, US regions, and majors would influence the median salary for jobs in the United States the most?\n"
   ]
  },
  {
   "cell_type": "markdown",
   "metadata": {},
   "source": [
    "## Background and Prior Work"
   ]
  },
  {
   "cell_type": "markdown",
   "metadata": {},
   "source": [
    "Understanding the dynamics of salary increments is a critical issue that impacts everyone. The pandemic has undeniably influenced the job market, leading to substantial changes and challenges across the United States. Industries such as hospitality, travel, and retail have suffered immense setbacks, resulting in widespread job losses and diminished salaries <a name=\"cite_ref-1\"></a>[<sup>1</sup>](#cite_note-1). A Forbes article highlights that hiring rates in the U.S. have decreased by 23.8% on a year-over-year basis, underscoring the pandemic’s severe impact on employment opportunities <a name=\"cite_ref-2\"></a>[<sup>2</sup>](#cite_note-2).\n",
    "\n",
    "Salary determinants are multifaceted, encompassing a variety of individual characteristics such as age, gender, race, educational background, and work experience. Additionally, job-related aspects like the sector of employment, job role, geographical location, tenure, employment status, and the size of the employing organization play significant roles <a name=\"cite_ref-3\"></a>[<sup>3</sup>](#cite_note-3).\n",
    "\n",
    "As college students soon to enter the workforce, we are particularly interested in understanding which factors are most crucial for recent college graduates in today’s climate. Educational background, especially one's chosen major, has proven to be a significant element. Research from the Georgetown University Center on Education and the Workforce shows that major choice can lead to a substantial disparity in earnings <a name=\"cite_ref-4\"></a>[<sup>4</sup>](#cite_note-4). Additionally, Payscale's \"College Salary Report\" links salary levels to specific institutions and regions <a name=\"cite_ref-5\"></a>[<sup>5</sup>](#cite_note-5).\n",
    "\n",
    "We are eager to delve into the intricacies of how these various factors influence salary progression, aiming to provide actionable insights for our peers and future graduates.\n",
    "\n",
    "References: \n",
    "1. <a name=\"cite_note-1\"></a> [^](#cite_ref-1) Ansell, Ryan (June 2021) COVID-19 ends longest employment recovery and expansion in CES history, causing unprecedented job losses in 2020 \n",
    "https://www.bls.gov/opub/mlr/2021/article/covid-19-ends-longest-employment-expansion-in-ces-history.htm <br>\n",
    "2. <a name=\"cite_note-2\"></a> [^](#cite_ref-2) Kelly, Jack (20 September 2023) What To Expect In The Job Market From Now Until The End Of 2023 https://www.forbes.com/sites/jackkelly/2023/09/20/what-to-expect-in-the-job-market-from-now-until-the-end-of-2023/?sh=2164749b51a8 <br>\n",
    "3. <a name=\"cite_note-3\"></a> [^](#cite_ref-3) Fred Foxton and Fiona Massey (18 November 2015) Analysis of factors affecting earnings using Annual Survey of Hours and Earnings\n",
    "https://www.ons.gov.uk/employmentandlabourmarket/peopleinwork/earningsandworkinghours/articles/analysisoffactorsaffectingearningsusingannualsurveyofhoursandearnings/2015 <br>\n",
    "4. <a name=\"cite_note-4\"></a> [^](#cite_ref-4) What’s It Worth? The Economic Value of College Majors <br>\n",
    " https://cew.georgetown.edu/cew-reports/whats-it-worth-the-economic-value-of-college-majors/ <br>\n",
    "5. <a name=\"cite_note-5\"></a> [^](#cite_ref-5) Payscale's 2023 College Salary Report <br>\n",
    " https://www.payscale.com/college-salary-report <br>\n"
   ]
  },
  {
   "cell_type": "markdown",
   "metadata": {},
   "source": [
    "# Hypothesis\n"
   ]
  },
  {
   "cell_type": "markdown",
   "metadata": {},
   "source": [
    "We believe that the major is the most influential factor on the median salary for jobs in the U.S.. This is because under the current economic climate, it seems like large corporations are more willing to pay STEM majors’ graduates more than others."
   ]
  },
  {
   "cell_type": "markdown",
   "metadata": {},
   "source": [
    "# Data"
   ]
  },
  {
   "cell_type": "markdown",
   "metadata": {},
   "source": [
    "The ideal dataset to answer our research question should address the factors that we want to measure and our dependent variable which is the median salary based on the factors. One variable should be college type like public or private because we want to see if there is a bias towards giving students from one type of school a higher salary than the other type. We also want a variable for which state the college is in because we want to measure if employers give higher salaries to students coming from certain states. We also are looking for data on the salaries for different majors because some majors might lead to better job opportunities than others. \n",
    "\n",
    "There are also other variables that could help our data analysis that are not part of our main factors. One variable that is helpful is having a distribution of salaries for each college and major rather than just the median to get a better sense of the spread of the data. Having the 25% and 75% quartiles would make it easier to visualize the similarities and differences in the pay. Also, having the tuition cost of a major at a school would be useful information because we could calculate if high paying jobs cost more money to get in the first place. \n",
    "\n",
    "We want our observations to be a good representation of the actual salaries of jobs in the United States so we should have at least 200 colleges and 50 majors represented. The data should ideally be selected through randomly sampling colleges in the United States to get a good spread across the regions of the country. Then random graduates from each major should be sampled to find out the median salary from each major. The data should be stored in a semi structured data format like a csv file to make it easy to analyze.\n",
    "\n",
    "Some potential datasets are found here on the Wall Street Journal:\n",
    "1. http://online.wsj.com/public/resources/documents/info-Salaries_for_Colleges_by_Type-sort.html\n",
    "\n",
    "2. http://online.wsj.com/public/resources/documents/info-Salaries_for_Colleges_by_Region-sort.html\n",
    "\n",
    "3. http://online.wsj.com/public/resources/documents/info-Degrees_that_Pay_you_Back-sort.html\n",
    "\n",
    "This data is different from our ideal because it doesn’t separate each college’s starting salary out by major. It only aggregates the data into college and major so it is impossible to analyze majors from a college or analyze all colleges for a single major. There is also a lot of missing data for the salary percentiles which would make it hard for us to analyze the distributions.\n"
   ]
  },
  {
   "cell_type": "markdown",
   "metadata": {},
   "source": [
    "# Ethics & Privacy"
   ]
  },
  {
   "cell_type": "markdown",
   "metadata": {},
   "source": [
    "Based on the data proposed, there might be some collection bias concerning demographic diversity such as gender, race, age, and geographical location. There might also be some dataset bias in terms of confounding factors such as family background and school prestige which contribute to variance in the data. In the aggregated dataset, it is unclear whether there is an equal proportion of males and females in the dataset since we know that women are, on average, only paid 0.83 cents to the dollar when compared with their male counterparts. We are also unsure regarding the proportions of the factors that might skew the sample distribution from the true population. Furthermore, human bias typically arises when discussing sensitive materials such as salary. Some individuals might inflate their salary due to ego and some might deflate their income to stay under the radar, ultimately increasing the error in the sample data.  In regards to other issues, it is unlikely that we would have any data privacy issues since sensitive information has been removed from the dataset, and we will be addressing equitable impact issues to ensure unbiased representation and fair analysis throughout the project.\n",
    "To detect the bias before the analysis, we would try to thoroughly understand the data by examining the demographics from different datasets and computing descriptive statistics to compare with our main dataset to see whether they come from the same population distribution. During analysis, we would conduct exploratory data analysis to visualize the distribution of variables across the different demographic groups and plot different graphs such as histograms and box plots to identify disparities and outliers. Furthermore, we could apply statistical tests to identify the statistical differences between demographic groups. Lastly, when communicating the analysis, we would ensure to clearly document the sources of our data, the preprocessing actions taken, and the different methodologies used to address the biases identified. We would also convey the limitations of our analysis by acknowledging the presence of inherent biases to provide a comprehensive understanding of the results and their potential constraints in our final report.\n"
   ]
  },
  {
   "cell_type": "markdown",
   "metadata": {},
   "source": [
    "# Team Expectations "
   ]
  },
  {
   "cell_type": "markdown",
   "metadata": {},
   "source": [
    "1. Communication methodology: We will meet each week on Tuesday according to the proposed timeline. Based on the availability of each member, we might flexibly adjust the time of meeting. After each meeting, we will collaboratively distribute the workload for the following week. Additionally, we will maintain ongoing communication through Discord for regular updates and discussions. \n",
    "2. Group Consensus: The initial distribution of workload will not be fixed, as uneven distribution and unexpected circumstances are often inevitable. It’s important to actively communicate with other group members if this case arises. We understand that everyone’s schedules change each week, but it’s important to leave sufficient time for this course. Check and respond to Discord messages regularly, information transparency is super important in group work. \n"
   ]
  },
  {
   "cell_type": "markdown",
   "metadata": {},
   "source": [
    "# Project Timeline Proposal"
   ]
  },
  {
   "cell_type": "markdown",
   "metadata": {},
   "source": [
    "\n",
    "\n",
    "\n",
    "\n",
    "| Meeting Date  | Meeting Time| Completed Before Meeting  | Discuss at Meeting |\n",
    "|---|---|---|---|\n",
    "| 11/1  |  6 PM | Search for datasets (completed)  | Finalize Proposal; Discuss Wrangling and possible analytical approaches (Asynchronous) | \n",
    "| 11/8  |  6 PM |  Import & Wrangle Data (Jiaheng, Sikai, Mengyi Chen); Begin EDA  (Sikai, Pranav Rebala, Steven Dominic Sahar) | Review/Edit wrangling/EDA | \n",
    "| 11/14  | 6 PM  | EDA (Mengyi Chen, Steven Dominic Sahar, Jiaheng, Sikai, Steven Dominic Sahar)  | Discuss Analysis plan; Complete checkpoint 1    |\n",
    "| 11/22  | 6 PM  | Finalize EDA (Mengyi Chen, Sikai); Begin Analysis (Jiaheng, Pranav Rebala, Steven Dominic Sahar) | Discuss/edit Analysis   |\n",
    "| 11/28  | 6 PM  | Finalize Analysis (Sikai, Jiaheng, Steven Dominic Sahar, Mengyi Chen, Pranav Rebala) | Complete checkpoint 2; Complete results/conclusion/discussion |\n",
    "| 12/4  | 6 PM  | Finalize report (Sikai, Jiaheng, Steven Dominic Sahar, Mengyi Chen, Pranav Rebala)| Discuss/edit full project |\n",
    "| 12/9  | 6 PM  | Create video (Sikai, Jiaheng, Steven Dominic Sahar, Mengyi Chen, Pranav Rebala) | Final Check |\n",
    "| 12/13 | Before 11:59 PM  | Final Check (Sikai, Jiaheng, Steven Dominic Sahar, Mengyi Chen, Pranav Rebala) | Turn in Final Project & Group Project Surveys |"
   ]
  }
 ],
 "metadata": {
  "kernelspec": {
   "display_name": "Python 3 (ipykernel)",
   "language": "python",
   "name": "python3"
  },
  "language_info": {
   "codemirror_mode": {
    "name": "ipython",
    "version": 3
   },
   "file_extension": ".py",
   "mimetype": "text/x-python",
   "name": "python",
   "nbconvert_exporter": "python",
   "pygments_lexer": "ipython3",
   "version": "3.9.12"
  }
 },
 "nbformat": 4,
 "nbformat_minor": 2
}
